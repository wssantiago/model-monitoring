{
 "cells": [
  {
   "cell_type": "markdown",
   "id": "81640f13-5119-4ce4-8804-c3724396890b",
   "metadata": {},
   "source": [
    "### Carregando dependências"
   ]
  },
  {
   "cell_type": "code",
   "execution_count": 1,
   "id": "778e6740-518c-4d9d-bf92-62ea4f1fe970",
   "metadata": {
    "tags": []
   },
   "outputs": [],
   "source": [
    "import pandas as pd\n",
    "pd.options.mode.chained_assignment = None\n",
    "import pickle\n",
    "import json\n",
    "import requests\n",
    "import numpy as np\n",
    "from app.utils.preprocessing import data_preprocessing"
   ]
  },
  {
   "cell_type": "markdown",
   "id": "5ea24de6-3a29-4de0-ad40-0e1636cb2eb5",
   "metadata": {},
   "source": [
    "### Caminhos para as bases utilizadas como exemplo para o POST no endpoint de aderência:"
   ]
  },
  {
   "cell_type": "code",
   "execution_count": 2,
   "id": "315a95f6-cdb9-41e9-9d4b-db2adad36989",
   "metadata": {
    "tags": []
   },
   "outputs": [],
   "source": [
    "# arquivos locais do repositório base\n",
    "# os caminhos são relativos à API \n",
    "path_train = '../../datasets/credit_01/train.gz'\n",
    "path_oot   = '../../datasets/credit_01/oot.gz'"
   ]
  },
  {
   "cell_type": "markdown",
   "id": "541a5e20-3c46-4b31-a713-a3dcca259789",
   "metadata": {},
   "source": [
    "#### O teste de Kolmogorov-Smirnov considerando duas amostras tem por objetivo determinar a distância entre elas para que, a partir de um nível de significância, possam ser ditas de distribuições diferentes ou não. Na maioria das aplicações práticas, esse nível de significância é dado $\\alpha = 0.05$."
   ]
  },
  {
   "cell_type": "markdown",
   "id": "93d00da9-bc44-4082-a556-c011f488eed4",
   "metadata": {},
   "source": [
    "Para chegarmos a alguma conclusão, assumimos uma hipótese nula que consiste em dizer que ambas as amostras pertencem a uma mesma distribuição."
   ]
  },
  {
   "cell_type": "markdown",
   "id": "ff0ebd39-31da-4aa3-87d3-8fea01502131",
   "metadata": {},
   "source": [
    "Assim, utilizando <em><strong>scipy.stats.ks_2samp(score_req, score_test)</strong></em> estamos considerando como hipótese nula o fato de que os scores determinados pelo modelo para os dois datasets vêm da mesma distribuição. Isso implica, portanto, que os datasets viriam de uma mesma distribuição de dados."
   ]
  },
  {
   "cell_type": "markdown",
   "id": "c6b2c195-68ba-49a5-98a8-10ab272d1ca7",
   "metadata": {},
   "source": [
    "Dessa maneira, ao calcular as métricas do teste KS, compararemos <em><strong>p-value</strong></em> com <em><strong>$\\alpha$</strong></em> para rejeitar ou não a hipótese nula.\n",
    "\n",
    "<li>Se <em><strong>p-value</strong></em> $ > \\alpha$, não rejeitamos a hipótese nula e as amostras vêm de uma mesma distribuição</li>\n",
    "<li>Se <em><strong>p-value</strong></em> $ <= \\alpha$, rejeitamos a hipótese nula e as amostras não vêm de uma mesma distribuição</li>"
   ]
  },
  {
   "cell_type": "markdown",
   "id": "e8afe493-48bb-4130-97de-b6582807ab8d",
   "metadata": {},
   "source": [
    "O teste KS utiliza a métrica <em><strong>statistic</strong></em> para definir o <em><strong>p-value</strong></em>."
   ]
  },
  {
   "cell_type": "markdown",
   "id": "7911fa86-2bd0-4e55-a5fa-d15ed30c77ab",
   "metadata": {},
   "source": [
    "##### O corpo da requisição é montado de acordo com a documentação. "
   ]
  },
  {
   "cell_type": "code",
   "execution_count": 3,
   "id": "9779ed4b-8135-4fed-9885-5932e3847bb8",
   "metadata": {
    "tags": []
   },
   "outputs": [],
   "source": [
    "req_json = {'req-dataset': path_oot}\n",
    "home = 'http://localhost:8001'\n",
    "ad_endpoint = '/aderencia'\n",
    "headers = {'Content-Type': 'application/json', 'accept': 'application/json'}\n",
    "\n",
    "# POST feito no endpoint /aderencia\n",
    "res_oot = requests.post(home + ad_endpoint, json=req_json, headers=headers)"
   ]
  },
  {
   "cell_type": "markdown",
   "id": "15bd54b5-6894-46f6-aa3d-d9d3e53759e5",
   "metadata": {},
   "source": [
    "##### A resposta da requisição é obtida."
   ]
  },
  {
   "cell_type": "markdown",
   "id": "d04a4cab-2411-4c61-8217-aac853447e2e",
   "metadata": {},
   "source": [
    "Nesse caso, percebe-se que o <em><strong>p-value</strong></em> está na ordem de $10^{-12}$, o que, de acordo com o teste KS, indica que as duas amostras não vêm da mesma distribuição considerando um $\\alpha = 0.05$."
   ]
  },
  {
   "cell_type": "code",
   "execution_count": 4,
   "id": "d7b79cca-701f-48a6-a39f-e54801a512c8",
   "metadata": {
    "tags": []
   },
   "outputs": [
    {
     "name": "stdout",
     "output_type": "stream",
     "text": [
      "{\n",
      "    \"KStest-result\": {\n",
      "        \"statistic\": 0.020915414151451373,\n",
      "        \"p-value\": 4.016241889587134e-12\n",
      "    }\n",
      "}\n"
     ]
    }
   ],
   "source": [
    "res_parsed = json.loads(res_oot.text)\n",
    "print(json.dumps(res_parsed, indent=4))"
   ]
  },
  {
   "cell_type": "markdown",
   "id": "5d3951fb-393b-43ba-8500-973a095429bc",
   "metadata": {},
   "source": [
    "##### Agora, para a base de treino, o corpo da requisição também é montado de acordo com a documentação."
   ]
  },
  {
   "cell_type": "code",
   "execution_count": 5,
   "id": "05989580-666d-409a-b2d7-68367029eb16",
   "metadata": {
    "tags": []
   },
   "outputs": [],
   "source": [
    "req_json = {'req-dataset': path_train}\n",
    "\n",
    "# POST feito no endpoint /aderencia\n",
    "res_train = requests.post(home + ad_endpoint, json=req_json, headers=headers)"
   ]
  },
  {
   "cell_type": "markdown",
   "id": "043b3d8e-82e6-4098-85ca-f0afd164c066",
   "metadata": {},
   "source": [
    "##### As métricas são obtidas."
   ]
  },
  {
   "cell_type": "markdown",
   "id": "744601bd-cde8-4742-83cf-5f47d2b17f74",
   "metadata": {},
   "source": [
    "Para a base de treino, percebe-se um <em><strong>p-value</strong></em> da ordem de $10^{-1}$, o que, de acordo com o teste KS, indica que as duas amostras são da mesma distribuição de dados considerando um $\\alpha = 0.05$."
   ]
  },
  {
   "cell_type": "code",
   "execution_count": 6,
   "id": "cc3c666a-a08d-4198-868b-9b982056122e",
   "metadata": {
    "tags": []
   },
   "outputs": [
    {
     "name": "stdout",
     "output_type": "stream",
     "text": [
      "{\n",
      "    \"KStest-result\": {\n",
      "        \"statistic\": 0.002759858953621075,\n",
      "        \"p-value\": 0.9605978662359891\n",
      "    }\n",
      "}\n"
     ]
    }
   ],
   "source": [
    "res_parsed = json.loads(res_train.text)\n",
    "print(json.dumps(res_parsed, indent=4))"
   ]
  },
  {
   "cell_type": "markdown",
   "id": "4fadf1a7-b218-48c2-a08a-1ff6574df37b",
   "metadata": {},
   "source": [
    "### Leitura do <em>batch_records.json</em> para envio como JSON para o POST no endpoint de performance:"
   ]
  },
  {
   "cell_type": "code",
   "execution_count": 7,
   "id": "33d6d69c-bf78-4c16-93dc-d41042e3a849",
   "metadata": {
    "tags": []
   },
   "outputs": [],
   "source": [
    "records_file = open('batch_records.json')\n",
    "records_json = json.load(records_file)"
   ]
  },
  {
   "cell_type": "markdown",
   "id": "65786771-23b8-46c1-8b3a-ccac0f771c60",
   "metadata": {},
   "source": [
    "##### Tem tipo List[dict] assim como esperado pelo callback do endpoint"
   ]
  },
  {
   "cell_type": "code",
   "execution_count": 8,
   "id": "90cebfb4-96a8-4b8e-a552-a871243f6613",
   "metadata": {
    "tags": []
   },
   "outputs": [
    {
     "data": {
      "text/plain": [
       "list"
      ]
     },
     "execution_count": 8,
     "metadata": {},
     "output_type": "execute_result"
    }
   ],
   "source": [
    "type(records_json)"
   ]
  },
  {
   "cell_type": "code",
   "execution_count": 9,
   "id": "7f7f0a0d-f7d5-40b5-9301-be74a347693b",
   "metadata": {
    "tags": []
   },
   "outputs": [
    {
     "data": {
      "text/plain": [
       "dict"
      ]
     },
     "execution_count": 9,
     "metadata": {},
     "output_type": "execute_result"
    }
   ],
   "source": [
    "type(records_json[0])"
   ]
  },
  {
   "cell_type": "markdown",
   "id": "b129fe51-4a9f-4102-af01-f1ad9a65534e",
   "metadata": {},
   "source": [
    "##### POST é feito para se obter volumetria dos dados e a performance do <strong><em>default model</em></strong>."
   ]
  },
  {
   "cell_type": "code",
   "execution_count": 10,
   "id": "18a3e9a6-227a-4a3b-9dbb-40dce4d415f7",
   "metadata": {
    "tags": []
   },
   "outputs": [],
   "source": [
    "home = 'http://localhost:8001'\n",
    "default_endpoint = '/performance/default'\n",
    "headers = {'Content-Type': 'application/json', 'accept': 'application/json'}\n",
    "\n",
    "# POST feito no endpoint /performance/{model_from}\n",
    "res_default = requests.post(home + default_endpoint, json=records_json, headers=headers)"
   ]
  },
  {
   "cell_type": "markdown",
   "id": "1541c321-fcde-4937-9617-87e720a2f3f5",
   "metadata": {},
   "source": [
    "A resposta é obtida."
   ]
  },
  {
   "cell_type": "code",
   "execution_count": 11,
   "id": "36ddfcda-a57e-4d68-8ad0-c7d2512d07b7",
   "metadata": {
    "tags": []
   },
   "outputs": [
    {
     "name": "stdout",
     "output_type": "stream",
     "text": [
      "{\n",
      "    \"volumetria\": {\n",
      "        \"JUL\": 74,\n",
      "        \"AGO\": 72,\n",
      "        \"MAI\": 67,\n",
      "        \"JUN\": 63,\n",
      "        \"MAR\": 62,\n",
      "        \"JAN\": 58,\n",
      "        \"FEV\": 55,\n",
      "        \"ABR\": 49\n",
      "    },\n",
      "    \"roc_score\": 0.5751748251748252\n",
      "}\n"
     ]
    }
   ],
   "source": [
    "res_default_parsed = json.loads(res_default.text)\n",
    "print(json.dumps(res_default_parsed, indent=4))"
   ]
  },
  {
   "cell_type": "markdown",
   "id": "b1c8c8ef-bb8c-4eb4-be20-9eb7dc6f7eef",
   "metadata": {},
   "source": [
    "##### POST feito para se obter métricas de performance agora do <strong><em>enhanced model</em></strong>."
   ]
  },
  {
   "cell_type": "code",
   "execution_count": 12,
   "id": "63447ba0-ac5c-4696-bc0e-21c108e97975",
   "metadata": {
    "tags": []
   },
   "outputs": [],
   "source": [
    "enhanced_endpoint = '/performance/enhanced'\n",
    "\n",
    "# POST feito no endpoint /performance/{model_from}\n",
    "res_enhanced = requests.post(home + enhanced_endpoint, json=records_json, headers=headers)"
   ]
  },
  {
   "cell_type": "markdown",
   "id": "496f2729-892c-42ae-b7bd-11c5f2c4f851",
   "metadata": {},
   "source": [
    "Resposta obtida."
   ]
  },
  {
   "cell_type": "code",
   "execution_count": 13,
   "id": "64ec4083-2c61-407a-ac2a-7617fd1ad006",
   "metadata": {
    "tags": []
   },
   "outputs": [
    {
     "name": "stdout",
     "output_type": "stream",
     "text": [
      "{\n",
      "    \"volumetria\": {\n",
      "        \"JUL\": 74,\n",
      "        \"AGO\": 72,\n",
      "        \"MAI\": 67,\n",
      "        \"JUN\": 63,\n",
      "        \"MAR\": 62,\n",
      "        \"JAN\": 58,\n",
      "        \"FEV\": 55,\n",
      "        \"ABR\": 49\n",
      "    },\n",
      "    \"roc_score\": 0.6108318764568764\n",
      "}\n"
     ]
    }
   ],
   "source": [
    "res_enhanced_parsed = json.loads(res_enhanced.text)\n",
    "print(json.dumps(res_enhanced_parsed, indent=4))"
   ]
  },
  {
   "cell_type": "markdown",
   "id": "19776653-2192-485c-ac2f-938c21d29398",
   "metadata": {},
   "source": [
    "#### Considerando como métrica de performance do modelo em questão como sendo a área sob a curva ROC, o modelo enhanced tem um ganho percentual no score de:"
   ]
  },
  {
   "cell_type": "code",
   "execution_count": 14,
   "id": "696dd293-879d-414b-bdde-47f8d6f68a5d",
   "metadata": {
    "tags": []
   },
   "outputs": [],
   "source": [
    "ganho_percentual = res_enhanced_parsed['roc_score'] - res_default_parsed['roc_score']"
   ]
  },
  {
   "cell_type": "code",
   "execution_count": 15,
   "id": "0fbd5c43-3f5f-4356-a6af-ce1533061168",
   "metadata": {
    "tags": []
   },
   "outputs": [
    {
     "name": "stdout",
     "output_type": "stream",
     "text": [
      "3.57%\n"
     ]
    }
   ],
   "source": [
    "print(str(round(ganho_percentual*100, 2)) + '%')"
   ]
  }
 ],
 "metadata": {
  "kernelspec": {
   "display_name": "monitoring-venv",
   "language": "python",
   "name": "monitoring-venv"
  },
  "language_info": {
   "codemirror_mode": {
    "name": "ipython",
    "version": 3
   },
   "file_extension": ".py",
   "mimetype": "text/x-python",
   "name": "python",
   "nbconvert_exporter": "python",
   "pygments_lexer": "ipython3",
   "version": "3.10.4"
  }
 },
 "nbformat": 4,
 "nbformat_minor": 5
}
