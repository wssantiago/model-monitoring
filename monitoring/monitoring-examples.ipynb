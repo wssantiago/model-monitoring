{
 "cells": [
  {
   "cell_type": "markdown",
   "id": "81640f13-5119-4ce4-8804-c3724396890b",
   "metadata": {},
   "source": [
    "### Carregando dependências"
   ]
  },
  {
   "cell_type": "code",
   "execution_count": 14,
   "id": "778e6740-518c-4d9d-bf92-62ea4f1fe970",
   "metadata": {
    "tags": []
   },
   "outputs": [],
   "source": [
    "import pandas as pd\n",
    "pd.options.mode.chained_assignment = None\n",
    "import pickle\n",
    "import json\n",
    "import requests\n",
    "import numpy as np\n",
    "from app.utils.preprocessing import data_preprocessing\n",
    "#from app.utils.reads import read_traindb"
   ]
  },
  {
   "cell_type": "markdown",
   "id": "5ea24de6-3a29-4de0-ad40-0e1636cb2eb5",
   "metadata": {},
   "source": [
    "### Caminhos para as bases utilizadas como exemplo para o POST no endpoint de aderência:"
   ]
  },
  {
   "cell_type": "code",
   "execution_count": 15,
   "id": "315a95f6-cdb9-41e9-9d4b-db2adad36989",
   "metadata": {
    "tags": []
   },
   "outputs": [],
   "source": [
    "# arquivos locais do repositório base\n",
    "# os caminhos são relativos à API \n",
    "path_train = '../../datasets/credit_01/train.gz'\n",
    "path_oot   = '../../datasets/credit_01/oot.gz'"
   ]
  },
  {
   "cell_type": "code",
   "execution_count": 16,
   "id": "9779ed4b-8135-4fed-9885-5932e3847bb8",
   "metadata": {
    "tags": []
   },
   "outputs": [],
   "source": [
    "req_json = {'req-dataset': path_oot}\n",
    "home = 'http://127.0.0.1:8001'\n",
    "endpoint = '/aderencia'\n",
    "headers = {'Content-Type': 'application/json', 'accept': 'application/json'}\n",
    "\n",
    "res = requests.post(home + endpoint, json=req_json, headers=headers)"
   ]
  },
  {
   "cell_type": "code",
   "execution_count": 17,
   "id": "d7b79cca-701f-48a6-a39f-e54801a512c8",
   "metadata": {
    "tags": []
   },
   "outputs": [
    {
     "name": "stdout",
     "output_type": "stream",
     "text": [
      "{\n",
      "    \"KStest-result\": {\n",
      "        \"statistic\": 0.020915414151451373,\n",
      "        \"p-value\": 4.016241889587134e-12\n",
      "    }\n",
      "}\n"
     ]
    }
   ],
   "source": [
    "res_parsed = json.loads(res.text)\n",
    "print(json.dumps(res_parsed, indent=4))"
   ]
  },
  {
   "cell_type": "code",
   "execution_count": 18,
   "id": "05989580-666d-409a-b2d7-68367029eb16",
   "metadata": {
    "tags": []
   },
   "outputs": [],
   "source": [
    "req_json = {'req-dataset': path_train}\n",
    "\n",
    "res = requests.post(home + endpoint, json=req_json, headers=headers)"
   ]
  },
  {
   "cell_type": "code",
   "execution_count": 19,
   "id": "cc3c666a-a08d-4198-868b-9b982056122e",
   "metadata": {
    "tags": []
   },
   "outputs": [
    {
     "name": "stdout",
     "output_type": "stream",
     "text": [
      "{\n",
      "    \"KStest-result\": {\n",
      "        \"statistic\": 0.002759858953621075,\n",
      "        \"p-value\": 0.9605978662359891\n",
      "    }\n",
      "}\n"
     ]
    }
   ],
   "source": [
    "res_parsed = json.loads(res.text)\n",
    "print(json.dumps(res_parsed, indent=4))"
   ]
  },
  {
   "cell_type": "markdown",
   "id": "4fadf1a7-b218-48c2-a08a-1ff6574df37b",
   "metadata": {},
   "source": [
    "### Leitura do <em>batch_records.json</em> para envio como JSON para o POST no endpoint de performance:"
   ]
  },
  {
   "cell_type": "code",
   "execution_count": 20,
   "id": "33d6d69c-bf78-4c16-93dc-d41042e3a849",
   "metadata": {
    "tags": []
   },
   "outputs": [],
   "source": [
    "records_file = open('batch_records.json')\n",
    "records_json = json.load(records_file)"
   ]
  },
  {
   "cell_type": "markdown",
   "id": "65786771-23b8-46c1-8b3a-ccac0f771c60",
   "metadata": {},
   "source": [
    "##### Tem tipo List[dict] assim como esperado pelo callback do endpoint"
   ]
  },
  {
   "cell_type": "code",
   "execution_count": 21,
   "id": "90cebfb4-96a8-4b8e-a552-a871243f6613",
   "metadata": {
    "tags": []
   },
   "outputs": [
    {
     "data": {
      "text/plain": [
       "list"
      ]
     },
     "execution_count": 21,
     "metadata": {},
     "output_type": "execute_result"
    }
   ],
   "source": [
    "type(records_json)"
   ]
  },
  {
   "cell_type": "code",
   "execution_count": 22,
   "id": "7f7f0a0d-f7d5-40b5-9301-be74a347693b",
   "metadata": {
    "tags": []
   },
   "outputs": [
    {
     "data": {
      "text/plain": [
       "dict"
      ]
     },
     "execution_count": 22,
     "metadata": {},
     "output_type": "execute_result"
    }
   ],
   "source": [
    "type(records_json[0])"
   ]
  },
  {
   "cell_type": "code",
   "execution_count": 23,
   "id": "18a3e9a6-227a-4a3b-9dbb-40dce4d415f7",
   "metadata": {
    "tags": []
   },
   "outputs": [],
   "source": [
    "home = 'http://127.0.0.1:8001'\n",
    "endpoint = '/performance/default'\n",
    "headers = {'Content-Type': 'application/json', 'accept': 'application/json'}\n",
    "\n",
    "res = requests.post(home + endpoint, json=records_json, headers=headers)"
   ]
  },
  {
   "cell_type": "code",
   "execution_count": 24,
   "id": "36ddfcda-a57e-4d68-8ad0-c7d2512d07b7",
   "metadata": {
    "tags": []
   },
   "outputs": [
    {
     "name": "stdout",
     "output_type": "stream",
     "text": [
      "{\n",
      "    \"volumetria\": {\n",
      "        \"JUL\": 74,\n",
      "        \"AGO\": 72,\n",
      "        \"MAI\": 67,\n",
      "        \"JUN\": 63,\n",
      "        \"MAR\": 62,\n",
      "        \"JAN\": 58,\n",
      "        \"FEV\": 55,\n",
      "        \"ABR\": 49\n",
      "    },\n",
      "    \"roc_score\": 0.5751748251748252\n",
      "}\n"
     ]
    }
   ],
   "source": [
    "res_parsed = json.loads(res.text)\n",
    "print(json.dumps(res_parsed, indent=4))"
   ]
  },
  {
   "cell_type": "code",
   "execution_count": 25,
   "id": "63447ba0-ac5c-4696-bc0e-21c108e97975",
   "metadata": {
    "tags": []
   },
   "outputs": [],
   "source": [
    "endpoint = '/performance/enhanced'\n",
    "\n",
    "res = requests.post(home + endpoint, json=records_json, headers=headers)"
   ]
  },
  {
   "cell_type": "code",
   "execution_count": 26,
   "id": "64ec4083-2c61-407a-ac2a-7617fd1ad006",
   "metadata": {
    "tags": []
   },
   "outputs": [
    {
     "name": "stdout",
     "output_type": "stream",
     "text": [
      "{\n",
      "    \"volumetria\": {\n",
      "        \"JUL\": 74,\n",
      "        \"AGO\": 72,\n",
      "        \"MAI\": 67,\n",
      "        \"JUN\": 63,\n",
      "        \"MAR\": 62,\n",
      "        \"JAN\": 58,\n",
      "        \"FEV\": 55,\n",
      "        \"ABR\": 49\n",
      "    },\n",
      "    \"roc_score\": 0.6108318764568764\n",
      "}\n"
     ]
    }
   ],
   "source": [
    "res_parsed = json.loads(res.text)\n",
    "print(json.dumps(res_parsed, indent=4))"
   ]
  },
  {
   "cell_type": "code",
   "execution_count": null,
   "id": "731c3bbf-6f9b-424e-b0e9-65ecaa7c51a0",
   "metadata": {},
   "outputs": [],
   "source": []
  }
 ],
 "metadata": {
  "kernelspec": {
   "display_name": "monitoring-venv",
   "language": "python",
   "name": "monitoring-venv"
  },
  "language_info": {
   "codemirror_mode": {
    "name": "ipython",
    "version": 3
   },
   "file_extension": ".py",
   "mimetype": "text/x-python",
   "name": "python",
   "nbconvert_exporter": "python",
   "pygments_lexer": "ipython3",
   "version": "3.10.4"
  }
 },
 "nbformat": 4,
 "nbformat_minor": 5
}
